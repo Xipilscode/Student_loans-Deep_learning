{
 "cells": [
  {
   "cell_type": "markdown",
   "id": "e7718839-1b8b-470b-9330-6c6949f5ed05",
   "metadata": {
    "tags": []
   },
   "source": [
    "### Student Loans Risk analysis with Deep Learning model"
   ]
  },
  {
   "cell_type": "code",
   "execution_count": 1,
   "id": "cb170104-bd9b-4169-b740-d43c1b3af4a6",
   "metadata": {},
   "outputs": [],
   "source": [
    "# Imports\n",
    "import pandas as pd\n",
    "from pathlib import Path\n",
    "import tensorflow as tf\n",
    "from tensorflow.keras.layers import Dense\n",
    "from tensorflow.keras.models import Sequential\n",
    "from sklearn.model_selection import train_test_split\n",
    "from sklearn.preprocessing import StandardScaler\n",
    "from sklearn.metrics import classification_report\n"
   ]
  },
  {
   "cell_type": "markdown",
   "id": "59d6d6b2-5ec3-446e-94bb-c95837540717",
   "metadata": {},
   "source": [
    "#### Get the data and Prepare it for a neural network model"
   ]
  },
  {
   "cell_type": "markdown",
   "id": "84fabda2-c3c7-46c6-b08d-104722588bb2",
   "metadata": {},
   "source": [
    "#### Step 1: Read the **student-loans.csv** file into a DataFrame. Review the DF, look for columns that could define features and target variables."
   ]
  },
  {
   "cell_type": "code",
   "execution_count": 2,
   "id": "fdef48d1-6ad4-49d8-bb6b-ca76f6dcb185",
   "metadata": {},
   "outputs": [
    {
     "data": {
      "text/html": [
       "<div>\n",
       "<style scoped>\n",
       "    .dataframe tbody tr th:only-of-type {\n",
       "        vertical-align: middle;\n",
       "    }\n",
       "\n",
       "    .dataframe tbody tr th {\n",
       "        vertical-align: top;\n",
       "    }\n",
       "\n",
       "    .dataframe thead th {\n",
       "        text-align: right;\n",
       "    }\n",
       "</style>\n",
       "<table border=\"1\" class=\"dataframe\">\n",
       "  <thead>\n",
       "    <tr style=\"text-align: right;\">\n",
       "      <th></th>\n",
       "      <th>payment_history</th>\n",
       "      <th>location_parameter</th>\n",
       "      <th>stem_degree_score</th>\n",
       "      <th>gpa_ranking</th>\n",
       "      <th>alumni_success</th>\n",
       "      <th>study_major_code</th>\n",
       "      <th>time_to_completion</th>\n",
       "      <th>finance_workshop_score</th>\n",
       "      <th>cohort_ranking</th>\n",
       "      <th>total_loan_score</th>\n",
       "      <th>financial_aid_score</th>\n",
       "      <th>credit_ranking</th>\n",
       "    </tr>\n",
       "  </thead>\n",
       "  <tbody>\n",
       "    <tr>\n",
       "      <th>0</th>\n",
       "      <td>7.4</td>\n",
       "      <td>0.70</td>\n",
       "      <td>0.00</td>\n",
       "      <td>1.9</td>\n",
       "      <td>0.076</td>\n",
       "      <td>11.0</td>\n",
       "      <td>34.0</td>\n",
       "      <td>0.9978</td>\n",
       "      <td>3.51</td>\n",
       "      <td>0.56</td>\n",
       "      <td>9.4</td>\n",
       "      <td>0</td>\n",
       "    </tr>\n",
       "    <tr>\n",
       "      <th>1</th>\n",
       "      <td>7.8</td>\n",
       "      <td>0.88</td>\n",
       "      <td>0.00</td>\n",
       "      <td>2.6</td>\n",
       "      <td>0.098</td>\n",
       "      <td>25.0</td>\n",
       "      <td>67.0</td>\n",
       "      <td>0.9968</td>\n",
       "      <td>3.20</td>\n",
       "      <td>0.68</td>\n",
       "      <td>9.8</td>\n",
       "      <td>0</td>\n",
       "    </tr>\n",
       "    <tr>\n",
       "      <th>2</th>\n",
       "      <td>7.8</td>\n",
       "      <td>0.76</td>\n",
       "      <td>0.04</td>\n",
       "      <td>2.3</td>\n",
       "      <td>0.092</td>\n",
       "      <td>15.0</td>\n",
       "      <td>54.0</td>\n",
       "      <td>0.9970</td>\n",
       "      <td>3.26</td>\n",
       "      <td>0.65</td>\n",
       "      <td>9.8</td>\n",
       "      <td>0</td>\n",
       "    </tr>\n",
       "    <tr>\n",
       "      <th>3</th>\n",
       "      <td>11.2</td>\n",
       "      <td>0.28</td>\n",
       "      <td>0.56</td>\n",
       "      <td>1.9</td>\n",
       "      <td>0.075</td>\n",
       "      <td>17.0</td>\n",
       "      <td>60.0</td>\n",
       "      <td>0.9980</td>\n",
       "      <td>3.16</td>\n",
       "      <td>0.58</td>\n",
       "      <td>9.8</td>\n",
       "      <td>1</td>\n",
       "    </tr>\n",
       "    <tr>\n",
       "      <th>4</th>\n",
       "      <td>7.4</td>\n",
       "      <td>0.70</td>\n",
       "      <td>0.00</td>\n",
       "      <td>1.9</td>\n",
       "      <td>0.076</td>\n",
       "      <td>11.0</td>\n",
       "      <td>34.0</td>\n",
       "      <td>0.9978</td>\n",
       "      <td>3.51</td>\n",
       "      <td>0.56</td>\n",
       "      <td>9.4</td>\n",
       "      <td>0</td>\n",
       "    </tr>\n",
       "  </tbody>\n",
       "</table>\n",
       "</div>"
      ],
      "text/plain": [
       "   payment_history  location_parameter  stem_degree_score  gpa_ranking   \n",
       "0              7.4                0.70               0.00          1.9  \\\n",
       "1              7.8                0.88               0.00          2.6   \n",
       "2              7.8                0.76               0.04          2.3   \n",
       "3             11.2                0.28               0.56          1.9   \n",
       "4              7.4                0.70               0.00          1.9   \n",
       "\n",
       "   alumni_success  study_major_code  time_to_completion   \n",
       "0           0.076              11.0                34.0  \\\n",
       "1           0.098              25.0                67.0   \n",
       "2           0.092              15.0                54.0   \n",
       "3           0.075              17.0                60.0   \n",
       "4           0.076              11.0                34.0   \n",
       "\n",
       "   finance_workshop_score  cohort_ranking  total_loan_score   \n",
       "0                  0.9978            3.51              0.56  \\\n",
       "1                  0.9968            3.20              0.68   \n",
       "2                  0.9970            3.26              0.65   \n",
       "3                  0.9980            3.16              0.58   \n",
       "4                  0.9978            3.51              0.56   \n",
       "\n",
       "   financial_aid_score  credit_ranking  \n",
       "0                  9.4               0  \n",
       "1                  9.8               0  \n",
       "2                  9.8               0  \n",
       "3                  9.8               1  \n",
       "4                  9.4               0  "
      ]
     },
     "execution_count": 2,
     "metadata": {},
     "output_type": "execute_result"
    }
   ],
   "source": [
    "# Read the csv into a Pandas DataFrame\n",
    "file_path = \"https://static.bc-edx.com/ai/ail-v-1-0/m18/lms/datasets/student-loans.csv\"\n",
    "loans_df = pd.read_csv(file_path)\n",
    "\n",
    "# Review the DataFrame\n",
    "loans_df.head()"
   ]
  },
  {
   "cell_type": "code",
   "execution_count": 3,
   "id": "8f9c6378-7016-40a9-a1f8-5e749d5bd76b",
   "metadata": {},
   "outputs": [
    {
     "name": "stdout",
     "output_type": "stream",
     "text": [
      "<class 'pandas.core.frame.DataFrame'>\n",
      "RangeIndex: 1599 entries, 0 to 1598\n",
      "Data columns (total 12 columns):\n",
      " #   Column                  Non-Null Count  Dtype  \n",
      "---  ------                  --------------  -----  \n",
      " 0   payment_history         1599 non-null   float64\n",
      " 1   location_parameter      1599 non-null   float64\n",
      " 2   stem_degree_score       1599 non-null   float64\n",
      " 3   gpa_ranking             1599 non-null   float64\n",
      " 4   alumni_success          1599 non-null   float64\n",
      " 5   study_major_code        1599 non-null   float64\n",
      " 6   time_to_completion      1599 non-null   float64\n",
      " 7   finance_workshop_score  1599 non-null   float64\n",
      " 8   cohort_ranking          1599 non-null   float64\n",
      " 9   total_loan_score        1599 non-null   float64\n",
      " 10  financial_aid_score     1599 non-null   float64\n",
      " 11  credit_ranking          1599 non-null   int64  \n",
      "dtypes: float64(11), int64(1)\n",
      "memory usage: 150.0 KB\n"
     ]
    }
   ],
   "source": [
    "# Review the data types associated with the columns\n",
    "loans_df.info()"
   ]
  },
  {
   "cell_type": "code",
   "execution_count": 4,
   "id": "06379ce7-6e2b-43bd-b585-0dde47eb18b1",
   "metadata": {
    "tags": []
   },
   "outputs": [
    {
     "data": {
      "text/plain": [
       "credit_ranking\n",
       "1    855\n",
       "0    744\n",
       "Name: count, dtype: int64"
      ]
     },
     "execution_count": 4,
     "metadata": {},
     "output_type": "execute_result"
    }
   ],
   "source": [
    "# Check the credit ranking value counts\n",
    "loans_df[\"credit_ranking\"].value_counts()"
   ]
  },
  {
   "cell_type": "markdown",
   "id": "33a90bbc-251f-4ea2-bd08-0b477eb23846",
   "metadata": {},
   "source": [
    "#### Construct the features (X) and targets (y) datasets from the preprocessed data. Define the target dataset using **\"credit_ranking\"** column of the preprocessed DataFrame, while the remaining columns will constitute the features dataset."
   ]
  },
  {
   "cell_type": "code",
   "execution_count": 5,
   "id": "5bf92d82-3959-45d7-8535-879653046f57",
   "metadata": {
    "tags": []
   },
   "outputs": [
    {
     "data": {
      "text/plain": [
       "array([0, 0, 0, 1, 0, 0, 0, 1, 1, 0])"
      ]
     },
     "execution_count": 5,
     "metadata": {},
     "output_type": "execute_result"
    }
   ],
   "source": [
    "# Define the target set y from credit_ranking column\n",
    "y = loans_df[\"credit_ranking\"]\n",
    "\n",
    "# Display array sample of target y \n",
    "y[:10].values"
   ]
  },
  {
   "cell_type": "code",
   "execution_count": 6,
   "id": "6d11dfde-f56b-4326-b6c5-704d77dde16f",
   "metadata": {
    "tags": []
   },
   "outputs": [
    {
     "data": {
      "text/html": [
       "<div>\n",
       "<style scoped>\n",
       "    .dataframe tbody tr th:only-of-type {\n",
       "        vertical-align: middle;\n",
       "    }\n",
       "\n",
       "    .dataframe tbody tr th {\n",
       "        vertical-align: top;\n",
       "    }\n",
       "\n",
       "    .dataframe thead th {\n",
       "        text-align: right;\n",
       "    }\n",
       "</style>\n",
       "<table border=\"1\" class=\"dataframe\">\n",
       "  <thead>\n",
       "    <tr style=\"text-align: right;\">\n",
       "      <th></th>\n",
       "      <th>payment_history</th>\n",
       "      <th>location_parameter</th>\n",
       "      <th>stem_degree_score</th>\n",
       "      <th>gpa_ranking</th>\n",
       "      <th>alumni_success</th>\n",
       "      <th>study_major_code</th>\n",
       "      <th>time_to_completion</th>\n",
       "      <th>finance_workshop_score</th>\n",
       "      <th>cohort_ranking</th>\n",
       "      <th>total_loan_score</th>\n",
       "      <th>financial_aid_score</th>\n",
       "    </tr>\n",
       "  </thead>\n",
       "  <tbody>\n",
       "    <tr>\n",
       "      <th>0</th>\n",
       "      <td>7.4</td>\n",
       "      <td>0.70</td>\n",
       "      <td>0.00</td>\n",
       "      <td>1.9</td>\n",
       "      <td>0.076</td>\n",
       "      <td>11.0</td>\n",
       "      <td>34.0</td>\n",
       "      <td>0.9978</td>\n",
       "      <td>3.51</td>\n",
       "      <td>0.56</td>\n",
       "      <td>9.4</td>\n",
       "    </tr>\n",
       "    <tr>\n",
       "      <th>1</th>\n",
       "      <td>7.8</td>\n",
       "      <td>0.88</td>\n",
       "      <td>0.00</td>\n",
       "      <td>2.6</td>\n",
       "      <td>0.098</td>\n",
       "      <td>25.0</td>\n",
       "      <td>67.0</td>\n",
       "      <td>0.9968</td>\n",
       "      <td>3.20</td>\n",
       "      <td>0.68</td>\n",
       "      <td>9.8</td>\n",
       "    </tr>\n",
       "    <tr>\n",
       "      <th>2</th>\n",
       "      <td>7.8</td>\n",
       "      <td>0.76</td>\n",
       "      <td>0.04</td>\n",
       "      <td>2.3</td>\n",
       "      <td>0.092</td>\n",
       "      <td>15.0</td>\n",
       "      <td>54.0</td>\n",
       "      <td>0.9970</td>\n",
       "      <td>3.26</td>\n",
       "      <td>0.65</td>\n",
       "      <td>9.8</td>\n",
       "    </tr>\n",
       "    <tr>\n",
       "      <th>3</th>\n",
       "      <td>11.2</td>\n",
       "      <td>0.28</td>\n",
       "      <td>0.56</td>\n",
       "      <td>1.9</td>\n",
       "      <td>0.075</td>\n",
       "      <td>17.0</td>\n",
       "      <td>60.0</td>\n",
       "      <td>0.9980</td>\n",
       "      <td>3.16</td>\n",
       "      <td>0.58</td>\n",
       "      <td>9.8</td>\n",
       "    </tr>\n",
       "    <tr>\n",
       "      <th>4</th>\n",
       "      <td>7.4</td>\n",
       "      <td>0.70</td>\n",
       "      <td>0.00</td>\n",
       "      <td>1.9</td>\n",
       "      <td>0.076</td>\n",
       "      <td>11.0</td>\n",
       "      <td>34.0</td>\n",
       "      <td>0.9978</td>\n",
       "      <td>3.51</td>\n",
       "      <td>0.56</td>\n",
       "      <td>9.4</td>\n",
       "    </tr>\n",
       "  </tbody>\n",
       "</table>\n",
       "</div>"
      ],
      "text/plain": [
       "   payment_history  location_parameter  stem_degree_score  gpa_ranking   \n",
       "0              7.4                0.70               0.00          1.9  \\\n",
       "1              7.8                0.88               0.00          2.6   \n",
       "2              7.8                0.76               0.04          2.3   \n",
       "3             11.2                0.28               0.56          1.9   \n",
       "4              7.4                0.70               0.00          1.9   \n",
       "\n",
       "   alumni_success  study_major_code  time_to_completion   \n",
       "0           0.076              11.0                34.0  \\\n",
       "1           0.098              25.0                67.0   \n",
       "2           0.092              15.0                54.0   \n",
       "3           0.075              17.0                60.0   \n",
       "4           0.076              11.0                34.0   \n",
       "\n",
       "   finance_workshop_score  cohort_ranking  total_loan_score   \n",
       "0                  0.9978            3.51              0.56  \\\n",
       "1                  0.9968            3.20              0.68   \n",
       "2                  0.9970            3.26              0.65   \n",
       "3                  0.9980            3.16              0.58   \n",
       "4                  0.9978            3.51              0.56   \n",
       "\n",
       "   financial_aid_score  \n",
       "0                  9.4  \n",
       "1                  9.8  \n",
       "2                  9.8  \n",
       "3                  9.8  \n",
       "4                  9.4  "
      ]
     },
     "execution_count": 6,
     "metadata": {},
     "output_type": "execute_result"
    }
   ],
   "source": [
    "# Define fetures set X, select all columns besides credit_ranking \n",
    "X = loans_df.drop(columns=\"credit_ranking\")\n",
    "\n",
    "# Reeview features\n",
    "X.head()"
   ]
  },
  {
   "cell_type": "markdown",
   "id": "5a92135d-1c53-4140-9678-faf7f8e6aedb",
   "metadata": {},
   "source": [
    "#### Step 3: Now let's split the target and features sets into training and testing"
   ]
  },
  {
   "cell_type": "code",
   "execution_count": 7,
   "id": "217ac849-267d-43bd-a77a-d67a5f58c831",
   "metadata": {
    "tags": []
   },
   "outputs": [],
   "source": [
    "# Split the preprocessed data into a training and testing datasets\n",
    "# Set random state\n",
    "X_train, X_test, y_train, y_test = train_test_split(X, y, random_state=1)"
   ]
  },
  {
   "cell_type": "markdown",
   "id": "1dab0c4b-f01d-4ce2-91b2-8b2b5a90cc11",
   "metadata": {},
   "source": [
    "#### Step 4: Use `StandardSaler` to scale the featurees data"
   ]
  },
  {
   "cell_type": "code",
   "execution_count": 8,
   "id": "c81e85f2-532f-4d2a-baf6-db23023a0189",
   "metadata": {
    "tags": []
   },
   "outputs": [],
   "source": [
    "# Create a StandardScaler instance\n",
    "Scaler = StandardScaler()\n",
    "\n",
    "# Fit the scaler to the features training dataset\n",
    "Scaler.fit(X_train)\n",
    "\n",
    "# Scale the data\n",
    "X_train_scaled = Scaler.fit_transform(X_train)\n",
    "X_test_scaler = Scaler.transform(X_test)\n"
   ]
  },
  {
   "cell_type": "markdown",
   "id": "5550b01f-0f5c-449a-81fe-efa232880172",
   "metadata": {
    "tags": []
   },
   "source": [
    "#### Step 5: Create a Neural Network Model\n",
    "In this step we'll create a deep neural network. We'll assign the number of input features, number of layers, and number of neurons for each layer utilizing Keras.\n",
    "\n"
   ]
  },
  {
   "cell_type": "code",
   "execution_count": 12,
   "id": "4b78cd52-797a-419b-9d0a-5f0f15c00de0",
   "metadata": {
    "tags": []
   },
   "outputs": [
    {
     "data": {
      "text/plain": [
       "11"
      ]
     },
     "execution_count": 12,
     "metadata": {},
     "output_type": "execute_result"
    }
   ],
   "source": [
    "# Define the number of input features for the model\n",
    "input_features = len(X_train.columns)\n",
    "\n",
    "# Review the number of features\n",
    "input_features"
   ]
  },
  {
   "cell_type": "code",
   "execution_count": 13,
   "id": "09b8b5b5-02ca-46f6-a020-bc0a3730b345",
   "metadata": {},
   "outputs": [],
   "source": [
    "# Define the number of hidden nodes for the 1st hidden layer\n",
    "hidden_nodes_layer1 = 6\n",
    "\n",
    "# Define the number of hidden nodes for the 2dn hidden layer\n",
    "hidden_nodes_layer2 = 3\n",
    "\n",
    "# Define the number of neurons in the output layer \n",
    "output_nodes = 1 \n"
   ]
  },
  {
   "cell_type": "code",
   "execution_count": 15,
   "id": "3c565795-8754-4448-a3a4-74d9baddf7e3",
   "metadata": {
    "tags": []
   },
   "outputs": [],
   "source": [
    "# Create a Sequential model \n",
    "nn_model = Sequential()\n",
    "\n",
    "# Add the first hidden layer \n",
    "nn_model.add(Dense(units=hidden_nodes_layer1,\n",
    "                   input_dim=input_features, activation=\"relu\"))\n",
    "\n"
   ]
  },
  {
   "cell_type": "code",
   "execution_count": 17,
   "id": "92608daf-13a5-416e-bd20-92b7b60b9453",
   "metadata": {
    "tags": []
   },
   "outputs": [],
   "source": [
    "# Add second hidden layer\n",
    "nn_model.add(Dense(units=hidden_nodes_layer2, activation=\"relu\"))\n",
    "            "
   ]
  },
  {
   "cell_type": "code",
   "execution_count": 18,
   "id": "7a5845cf-1d74-48e0-a328-7119f75eac0b",
   "metadata": {
    "tags": []
   },
   "outputs": [],
   "source": [
    "# Add the output layer to the model.\n",
    "#Specify teh number of output neurons with activation function.\n",
    "nn_model.add(Dense(units=output_nodes, activation=\"sigmoid\"))"
   ]
  },
  {
   "cell_type": "code",
   "execution_count": 20,
   "id": "a7d0ca29-a13c-4dd8-a5b4-31fc3e9ec858",
   "metadata": {
    "tags": []
   },
   "outputs": [
    {
     "name": "stdout",
     "output_type": "stream",
     "text": [
      "Model: \"sequential_1\"\n",
      "_________________________________________________________________\n",
      " Layer (type)                Output Shape              Param #   \n",
      "=================================================================\n",
      " dense_1 (Dense)             (None, 6)                 72        \n",
      "                                                                 \n",
      " dense_2 (Dense)             (None, 3)                 21        \n",
      "                                                                 \n",
      " dense_3 (Dense)             (None, 1)                 4         \n",
      "                                                                 \n",
      "=================================================================\n",
      "Total params: 97\n",
      "Trainable params: 97\n",
      "Non-trainable params: 0\n",
      "_________________________________________________________________\n"
     ]
    }
   ],
   "source": [
    "# Display the Sequential model summary\n",
    "nn_model.summary()"
   ]
  },
  {
   "cell_type": "markdown",
   "id": "41545f20-871e-48c7-8d22-6e23203944c4",
   "metadata": {},
   "source": [
    "#### Step 6: Compile and fit the model using `binary_crosstropy` los function with `adam` optimizer, and the `accuracy` evaluation metric."
   ]
  },
  {
   "cell_type": "code",
   "execution_count": 21,
   "id": "d4fac4eb-9c82-48f4-903e-4d86a797c54f",
   "metadata": {
    "tags": []
   },
   "outputs": [],
   "source": [
    "# Compile the Sequential model\n",
    "nn_model.compile(loss=\"binary_crossentropy\",\n",
    "                 optimizer=\"adam\", metrics=[\"accuracy\"])"
   ]
  },
  {
   "cell_type": "code",
   "execution_count": 22,
   "id": "2a5b4c80-b5e2-4b30-906e-fc5196e412bd",
   "metadata": {
    "tags": []
   },
   "outputs": [
    {
     "name": "stdout",
     "output_type": "stream",
     "text": [
      "Epoch 1/50\n"
     ]
    },
    {
     "name": "stderr",
     "output_type": "stream",
     "text": [
      "2024-06-04 00:02:45.975844: W tensorflow/tsl/platform/profile_utils/cpu_utils.cc:128] Failed to get CPU frequency: 0 Hz\n"
     ]
    },
    {
     "name": "stdout",
     "output_type": "stream",
     "text": [
      "38/38 [==============================] - 1s 9ms/step - loss: 0.7037 - accuracy: 0.5213\n",
      "Epoch 2/50\n",
      "38/38 [==============================] - 0s 5ms/step - loss: 0.6804 - accuracy: 0.5304\n",
      "Epoch 3/50\n",
      "38/38 [==============================] - 0s 5ms/step - loss: 0.6631 - accuracy: 0.5530\n",
      "Epoch 4/50\n",
      "38/38 [==============================] - 0s 5ms/step - loss: 0.6472 - accuracy: 0.5863\n",
      "Epoch 5/50\n",
      "38/38 [==============================] - 0s 5ms/step - loss: 0.6316 - accuracy: 0.6214\n",
      "Epoch 6/50\n",
      "38/38 [==============================] - 0s 6ms/step - loss: 0.6168 - accuracy: 0.6505\n",
      "Epoch 7/50\n",
      "38/38 [==============================] - 0s 5ms/step - loss: 0.6034 - accuracy: 0.6822\n",
      "Epoch 8/50\n",
      "38/38 [==============================] - 0s 5ms/step - loss: 0.5927 - accuracy: 0.6897\n",
      "Epoch 9/50\n",
      "38/38 [==============================] - 0s 5ms/step - loss: 0.5847 - accuracy: 0.7031\n",
      "Epoch 10/50\n",
      "38/38 [==============================] - 0s 5ms/step - loss: 0.5771 - accuracy: 0.7139\n",
      "Epoch 11/50\n",
      "38/38 [==============================] - 0s 5ms/step - loss: 0.5710 - accuracy: 0.7173\n",
      "Epoch 12/50\n",
      "38/38 [==============================] - 0s 5ms/step - loss: 0.5651 - accuracy: 0.7206\n",
      "Epoch 13/50\n",
      "38/38 [==============================] - 0s 5ms/step - loss: 0.5594 - accuracy: 0.7264\n",
      "Epoch 14/50\n",
      "38/38 [==============================] - 0s 5ms/step - loss: 0.5539 - accuracy: 0.7298\n",
      "Epoch 15/50\n",
      "38/38 [==============================] - 0s 5ms/step - loss: 0.5494 - accuracy: 0.7273\n",
      "Epoch 16/50\n",
      "38/38 [==============================] - 0s 5ms/step - loss: 0.5445 - accuracy: 0.7256\n",
      "Epoch 17/50\n",
      "38/38 [==============================] - 0s 5ms/step - loss: 0.5389 - accuracy: 0.7289\n",
      "Epoch 18/50\n",
      "38/38 [==============================] - 0s 5ms/step - loss: 0.5349 - accuracy: 0.7314\n",
      "Epoch 19/50\n",
      "38/38 [==============================] - 0s 5ms/step - loss: 0.5317 - accuracy: 0.7323\n",
      "Epoch 20/50\n",
      "38/38 [==============================] - 0s 5ms/step - loss: 0.5289 - accuracy: 0.7331\n",
      "Epoch 21/50\n",
      "38/38 [==============================] - 0s 5ms/step - loss: 0.5271 - accuracy: 0.7389\n",
      "Epoch 22/50\n",
      "38/38 [==============================] - 0s 5ms/step - loss: 0.5253 - accuracy: 0.7431\n",
      "Epoch 23/50\n",
      "38/38 [==============================] - 0s 5ms/step - loss: 0.5238 - accuracy: 0.7481\n",
      "Epoch 24/50\n",
      "38/38 [==============================] - 0s 5ms/step - loss: 0.5225 - accuracy: 0.7481\n",
      "Epoch 25/50\n",
      "38/38 [==============================] - 0s 5ms/step - loss: 0.5214 - accuracy: 0.7465\n",
      "Epoch 26/50\n",
      "38/38 [==============================] - 0s 5ms/step - loss: 0.5205 - accuracy: 0.7481\n",
      "Epoch 27/50\n",
      "38/38 [==============================] - 0s 5ms/step - loss: 0.5195 - accuracy: 0.7498\n",
      "Epoch 28/50\n",
      "38/38 [==============================] - 0s 5ms/step - loss: 0.5189 - accuracy: 0.7490\n",
      "Epoch 29/50\n",
      "38/38 [==============================] - 0s 5ms/step - loss: 0.5175 - accuracy: 0.7531\n",
      "Epoch 30/50\n",
      "38/38 [==============================] - 0s 5ms/step - loss: 0.5171 - accuracy: 0.7523\n",
      "Epoch 31/50\n",
      "38/38 [==============================] - 0s 5ms/step - loss: 0.5163 - accuracy: 0.7531\n",
      "Epoch 32/50\n",
      "38/38 [==============================] - 0s 5ms/step - loss: 0.5156 - accuracy: 0.7540\n",
      "Epoch 33/50\n",
      "38/38 [==============================] - 0s 5ms/step - loss: 0.5150 - accuracy: 0.7515\n",
      "Epoch 34/50\n",
      "38/38 [==============================] - 0s 5ms/step - loss: 0.5143 - accuracy: 0.7531\n",
      "Epoch 35/50\n",
      "38/38 [==============================] - 0s 5ms/step - loss: 0.5139 - accuracy: 0.7498\n",
      "Epoch 36/50\n",
      "38/38 [==============================] - 0s 5ms/step - loss: 0.5134 - accuracy: 0.7506\n",
      "Epoch 37/50\n",
      "38/38 [==============================] - 0s 5ms/step - loss: 0.5130 - accuracy: 0.7515\n",
      "Epoch 38/50\n",
      "38/38 [==============================] - 0s 6ms/step - loss: 0.5127 - accuracy: 0.7465\n",
      "Epoch 39/50\n",
      "38/38 [==============================] - 0s 5ms/step - loss: 0.5119 - accuracy: 0.7515\n",
      "Epoch 40/50\n",
      "38/38 [==============================] - 0s 5ms/step - loss: 0.5116 - accuracy: 0.7498\n",
      "Epoch 41/50\n",
      "38/38 [==============================] - 0s 5ms/step - loss: 0.5111 - accuracy: 0.7540\n",
      "Epoch 42/50\n",
      "38/38 [==============================] - 0s 5ms/step - loss: 0.5103 - accuracy: 0.7523\n",
      "Epoch 43/50\n",
      "38/38 [==============================] - 0s 5ms/step - loss: 0.5100 - accuracy: 0.7523\n",
      "Epoch 44/50\n",
      "38/38 [==============================] - 0s 5ms/step - loss: 0.5092 - accuracy: 0.7498\n",
      "Epoch 45/50\n",
      "38/38 [==============================] - 0s 5ms/step - loss: 0.5088 - accuracy: 0.7523\n",
      "Epoch 46/50\n",
      "38/38 [==============================] - 0s 5ms/step - loss: 0.5088 - accuracy: 0.7515\n",
      "Epoch 47/50\n",
      "38/38 [==============================] - 0s 6ms/step - loss: 0.5079 - accuracy: 0.7490\n",
      "Epoch 48/50\n",
      "38/38 [==============================] - 0s 5ms/step - loss: 0.5075 - accuracy: 0.7523\n",
      "Epoch 49/50\n",
      "38/38 [==============================] - 0s 5ms/step - loss: 0.5071 - accuracy: 0.7540\n",
      "Epoch 50/50\n",
      "38/38 [==============================] - 0s 5ms/step - loss: 0.5063 - accuracy: 0.7540\n"
     ]
    }
   ],
   "source": [
    "# Fit the model, use 50 epocs and training data\n",
    "fit_model = nn_model.fit(X_train_scaled, y_train, epochs=50)"
   ]
  },
  {
   "cell_type": "markdown",
   "id": "034e00fe-7479-4044-8b5a-502b97f84b41",
   "metadata": {},
   "source": [
    "#### Step 7: Evaluate the model using test data to determine the model's loss and accuracy.\n"
   ]
  },
  {
   "cell_type": "code",
   "execution_count": null,
   "id": "da983605-3cd0-4141-8c40-fff8bc901449",
   "metadata": {},
   "outputs": [],
   "source": []
  },
  {
   "cell_type": "code",
   "execution_count": null,
   "id": "819e0538-dbc2-48fe-ba27-f35a21efd176",
   "metadata": {},
   "outputs": [],
   "source": []
  },
  {
   "cell_type": "code",
   "execution_count": null,
   "id": "9ad98988-a13f-4c13-bcf0-6bd9b58ab107",
   "metadata": {},
   "outputs": [],
   "source": []
  },
  {
   "cell_type": "code",
   "execution_count": null,
   "id": "55c87422-12c9-40f8-a6bb-3a9337ed784b",
   "metadata": {},
   "outputs": [],
   "source": []
  }
 ],
 "metadata": {
  "kernelspec": {
   "display_name": "Python 3 (ipykernel)",
   "language": "python",
   "name": "python3"
  },
  "language_info": {
   "codemirror_mode": {
    "name": "ipython",
    "version": 3
   },
   "file_extension": ".py",
   "mimetype": "text/x-python",
   "name": "python",
   "nbconvert_exporter": "python",
   "pygments_lexer": "ipython3",
   "version": "3.10.10"
  }
 },
 "nbformat": 4,
 "nbformat_minor": 5
}
